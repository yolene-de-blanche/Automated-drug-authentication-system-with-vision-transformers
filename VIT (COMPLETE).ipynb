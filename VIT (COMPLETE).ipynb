{
  "cells": [
    {
      "cell_type": "markdown",
      "source": [
        "# Drug Classification With A Vision Transformer"
      ],
      "metadata": {
        "id": "rftKYfxZayyS"
      },
      "id": "rftKYfxZayyS"
    },
    {
      "cell_type": "code",
      "source": [
        "!pip install torchmetrics"
      ],
      "metadata": {
        "id": "s29h24OpeInb",
        "outputId": "b3ff2e7a-8adc-4eda-89e1-8119253b2bc2",
        "colab": {
          "base_uri": "https://localhost:8080/"
        }
      },
      "id": "s29h24OpeInb",
      "execution_count": 1,
      "outputs": [
        {
          "output_type": "stream",
          "name": "stdout",
          "text": [
            "Collecting torchmetrics\n",
            "  Downloading torchmetrics-1.3.2-py3-none-any.whl (841 kB)\n",
            "\u001b[2K     \u001b[90m━━━━━━━━━━━━━━━━━━━━━━━━━━━━━━━━━━━━━━━━\u001b[0m \u001b[32m841.5/841.5 kB\u001b[0m \u001b[31m5.8 MB/s\u001b[0m eta \u001b[36m0:00:00\u001b[0m\n",
            "\u001b[?25hRequirement already satisfied: numpy>1.20.0 in /usr/local/lib/python3.10/dist-packages (from torchmetrics) (1.25.2)\n",
            "Requirement already satisfied: packaging>17.1 in /usr/local/lib/python3.10/dist-packages (from torchmetrics) (24.0)\n",
            "Requirement already satisfied: torch>=1.10.0 in /usr/local/lib/python3.10/dist-packages (from torchmetrics) (2.2.1+cu121)\n",
            "Collecting lightning-utilities>=0.8.0 (from torchmetrics)\n",
            "  Downloading lightning_utilities-0.11.2-py3-none-any.whl (26 kB)\n",
            "Requirement already satisfied: setuptools in /usr/local/lib/python3.10/dist-packages (from lightning-utilities>=0.8.0->torchmetrics) (67.7.2)\n",
            "Requirement already satisfied: typing-extensions in /usr/local/lib/python3.10/dist-packages (from lightning-utilities>=0.8.0->torchmetrics) (4.11.0)\n",
            "Requirement already satisfied: filelock in /usr/local/lib/python3.10/dist-packages (from torch>=1.10.0->torchmetrics) (3.14.0)\n",
            "Requirement already satisfied: sympy in /usr/local/lib/python3.10/dist-packages (from torch>=1.10.0->torchmetrics) (1.12)\n",
            "Requirement already satisfied: networkx in /usr/local/lib/python3.10/dist-packages (from torch>=1.10.0->torchmetrics) (3.3)\n",
            "Requirement already satisfied: jinja2 in /usr/local/lib/python3.10/dist-packages (from torch>=1.10.0->torchmetrics) (3.1.3)\n",
            "Requirement already satisfied: fsspec in /usr/local/lib/python3.10/dist-packages (from torch>=1.10.0->torchmetrics) (2023.6.0)\n",
            "Collecting nvidia-cuda-nvrtc-cu12==12.1.105 (from torch>=1.10.0->torchmetrics)\n",
            "  Using cached nvidia_cuda_nvrtc_cu12-12.1.105-py3-none-manylinux1_x86_64.whl (23.7 MB)\n",
            "Collecting nvidia-cuda-runtime-cu12==12.1.105 (from torch>=1.10.0->torchmetrics)\n",
            "  Using cached nvidia_cuda_runtime_cu12-12.1.105-py3-none-manylinux1_x86_64.whl (823 kB)\n",
            "Collecting nvidia-cuda-cupti-cu12==12.1.105 (from torch>=1.10.0->torchmetrics)\n",
            "  Using cached nvidia_cuda_cupti_cu12-12.1.105-py3-none-manylinux1_x86_64.whl (14.1 MB)\n",
            "Collecting nvidia-cudnn-cu12==8.9.2.26 (from torch>=1.10.0->torchmetrics)\n",
            "  Using cached nvidia_cudnn_cu12-8.9.2.26-py3-none-manylinux1_x86_64.whl (731.7 MB)\n",
            "Collecting nvidia-cublas-cu12==12.1.3.1 (from torch>=1.10.0->torchmetrics)\n",
            "  Using cached nvidia_cublas_cu12-12.1.3.1-py3-none-manylinux1_x86_64.whl (410.6 MB)\n",
            "Collecting nvidia-cufft-cu12==11.0.2.54 (from torch>=1.10.0->torchmetrics)\n",
            "  Using cached nvidia_cufft_cu12-11.0.2.54-py3-none-manylinux1_x86_64.whl (121.6 MB)\n",
            "Collecting nvidia-curand-cu12==10.3.2.106 (from torch>=1.10.0->torchmetrics)\n",
            "  Using cached nvidia_curand_cu12-10.3.2.106-py3-none-manylinux1_x86_64.whl (56.5 MB)\n",
            "Collecting nvidia-cusolver-cu12==11.4.5.107 (from torch>=1.10.0->torchmetrics)\n",
            "  Using cached nvidia_cusolver_cu12-11.4.5.107-py3-none-manylinux1_x86_64.whl (124.2 MB)\n",
            "Collecting nvidia-cusparse-cu12==12.1.0.106 (from torch>=1.10.0->torchmetrics)\n",
            "  Using cached nvidia_cusparse_cu12-12.1.0.106-py3-none-manylinux1_x86_64.whl (196.0 MB)\n",
            "Collecting nvidia-nccl-cu12==2.19.3 (from torch>=1.10.0->torchmetrics)\n",
            "  Using cached nvidia_nccl_cu12-2.19.3-py3-none-manylinux1_x86_64.whl (166.0 MB)\n",
            "Collecting nvidia-nvtx-cu12==12.1.105 (from torch>=1.10.0->torchmetrics)\n",
            "  Using cached nvidia_nvtx_cu12-12.1.105-py3-none-manylinux1_x86_64.whl (99 kB)\n",
            "Requirement already satisfied: triton==2.2.0 in /usr/local/lib/python3.10/dist-packages (from torch>=1.10.0->torchmetrics) (2.2.0)\n",
            "Collecting nvidia-nvjitlink-cu12 (from nvidia-cusolver-cu12==11.4.5.107->torch>=1.10.0->torchmetrics)\n",
            "  Using cached nvidia_nvjitlink_cu12-12.4.127-py3-none-manylinux2014_x86_64.whl (21.1 MB)\n",
            "Requirement already satisfied: MarkupSafe>=2.0 in /usr/local/lib/python3.10/dist-packages (from jinja2->torch>=1.10.0->torchmetrics) (2.1.5)\n",
            "Requirement already satisfied: mpmath>=0.19 in /usr/local/lib/python3.10/dist-packages (from sympy->torch>=1.10.0->torchmetrics) (1.3.0)\n",
            "Installing collected packages: nvidia-nvtx-cu12, nvidia-nvjitlink-cu12, nvidia-nccl-cu12, nvidia-curand-cu12, nvidia-cufft-cu12, nvidia-cuda-runtime-cu12, nvidia-cuda-nvrtc-cu12, nvidia-cuda-cupti-cu12, nvidia-cublas-cu12, lightning-utilities, nvidia-cusparse-cu12, nvidia-cudnn-cu12, nvidia-cusolver-cu12, torchmetrics\n",
            "Successfully installed lightning-utilities-0.11.2 nvidia-cublas-cu12-12.1.3.1 nvidia-cuda-cupti-cu12-12.1.105 nvidia-cuda-nvrtc-cu12-12.1.105 nvidia-cuda-runtime-cu12-12.1.105 nvidia-cudnn-cu12-8.9.2.26 nvidia-cufft-cu12-11.0.2.54 nvidia-curand-cu12-10.3.2.106 nvidia-cusolver-cu12-11.4.5.107 nvidia-cusparse-cu12-12.1.0.106 nvidia-nccl-cu12-2.19.3 nvidia-nvjitlink-cu12-12.4.127 nvidia-nvtx-cu12-12.1.105 torchmetrics-1.3.2\n"
          ]
        }
      ]
    },
    {
      "cell_type": "code",
      "source": [
        "#mouting drive\n",
        "from google.colab import drive\n",
        "drive.mount('/content/drive')"
      ],
      "metadata": {
        "colab": {
          "base_uri": "https://localhost:8080/"
        },
        "id": "eeXi9xFmHCNX",
        "outputId": "95059924-54a1-491d-a050-268427a1c1e1"
      },
      "id": "eeXi9xFmHCNX",
      "execution_count": 2,
      "outputs": [
        {
          "output_type": "stream",
          "name": "stdout",
          "text": [
            "Mounted at /content/drive\n"
          ]
        }
      ]
    },
    {
      "cell_type": "code",
      "source": [
        "\n",
        "#necessary imports\n",
        "import torch\n",
        "import torch.nn as nn\n",
        "import torch.optim as optim\n",
        "import torch.nn.functional as F\n",
        "from torch.utils.data import Dataset, DataLoader\n",
        "import torchvision.transforms as transforms\n",
        "from torchvision import datasets\n",
        "import os\n",
        "from PIL import Image\n",
        "import numpy as np\n",
        "from sklearn.metrics import classification_report, confusion_matrix\n",
        "import matplotlib.pyplot as plt\n",
        "import seaborn as sns\n",
        "import math\n",
        "from torchvision.transforms.functional import to_tensor\n",
        "import random"
      ],
      "metadata": {
        "id": "XRnPsBBgqR-u"
      },
      "id": "XRnPsBBgqR-u",
      "execution_count": 3,
      "outputs": []
    },
    {
      "cell_type": "code",
      "source": [
        "if torch.cuda.is_available():\n",
        "    device = torch.device(\"cuda\")\n",
        "    print(\"GPU is available\")\n",
        "else:\n",
        "    device = torch.device(\"cpu\")\n",
        "    print(\"GPU is not available, using CPU\")"
      ],
      "metadata": {
        "colab": {
          "base_uri": "https://localhost:8080/"
        },
        "id": "7FQyky14pzhw",
        "outputId": "765c14d1-e327-4778-fa3b-62f36e855f51"
      },
      "id": "7FQyky14pzhw",
      "execution_count": 4,
      "outputs": [
        {
          "output_type": "stream",
          "name": "stdout",
          "text": [
            "GPU is not available, using CPU\n"
          ]
        }
      ]
    },
    {
      "cell_type": "code",
      "source": [
        "# Setting seed for reproducibility\n",
        "SEED = 42\n",
        "torch.manual_seed(SEED)\n",
        "np.random.seed(SEED)\n",
        "\n",
        "# Hyperparameters & Architecture details\n",
        "NUM_CLASSES = 10\n",
        "IMAGE_SIZE = 72\n",
        "BATCH_SIZE = 32\n",
        "EPOCHS = 100\n",
        "PATCH_SIZE = 6\n",
        "NUM_PATCHES = (IMAGE_SIZE // PATCH_SIZE) ** 2\n",
        "PROJECTION_DIM = 64\n",
        "NUM_HEADS = 4\n",
        "TRANSFORMER_UNITS = [PROJECTION_DIM * 2, PROJECTION_DIM]\n",
        "MLP_HEAD_UNITS = [2048, 1024]\n",
        "LEARNING_RATE = 0.00001\n",
        "LAYER_NORM_EPS = 1e-6\n",
        "TRANSFORMER_LAYERS = 8"
      ],
      "metadata": {
        "id": "gdiDZ0vvg8qo"
      },
      "id": "gdiDZ0vvg8qo",
      "execution_count": 5,
      "outputs": []
    },
    {
      "cell_type": "code",
      "execution_count": 6,
      "id": "8c1252ef",
      "metadata": {
        "colab": {
          "base_uri": "https://localhost:8080/",
          "height": 363
        },
        "id": "8c1252ef",
        "outputId": "1a7599c4-5a45-473d-a4cf-2966afd3202c"
      },
      "outputs": [
        {
          "output_type": "stream",
          "name": "stdout",
          "text": [
            "0\n"
          ]
        },
        {
          "output_type": "error",
          "ename": "KeyboardInterrupt",
          "evalue": "",
          "traceback": [
            "\u001b[0;31m---------------------------------------------------------------------------\u001b[0m",
            "\u001b[0;31mKeyboardInterrupt\u001b[0m                         Traceback (most recent call last)",
            "\u001b[0;32m<ipython-input-6-2573b1df12f0>\u001b[0m in \u001b[0;36m<cell line: 36>\u001b[0;34m()\u001b[0m\n\u001b[1;32m     35\u001b[0m \u001b[0mtrain_labels\u001b[0m \u001b[0;34m=\u001b[0m \u001b[0;34m[\u001b[0m\u001b[0;34m]\u001b[0m\u001b[0;34m\u001b[0m\u001b[0;34m\u001b[0m\u001b[0m\n\u001b[1;32m     36\u001b[0m \u001b[0;32mfor\u001b[0m \u001b[0mi\u001b[0m \u001b[0;32min\u001b[0m \u001b[0mrange\u001b[0m\u001b[0;34m(\u001b[0m\u001b[0;36m4000\u001b[0m\u001b[0;34m)\u001b[0m\u001b[0;34m:\u001b[0m\u001b[0;34m\u001b[0m\u001b[0;34m\u001b[0m\u001b[0m\n\u001b[0;32m---> 37\u001b[0;31m     \u001b[0mimage\u001b[0m \u001b[0;34m=\u001b[0m \u001b[0mImage\u001b[0m\u001b[0;34m.\u001b[0m\u001b[0mopen\u001b[0m\u001b[0;34m(\u001b[0m\u001b[0mimages\u001b[0m\u001b[0;34m[\u001b[0m\u001b[0mi\u001b[0m\u001b[0;34m]\u001b[0m\u001b[0;34m)\u001b[0m\u001b[0;34m.\u001b[0m\u001b[0mconvert\u001b[0m\u001b[0;34m(\u001b[0m\u001b[0;34m'RGB'\u001b[0m\u001b[0;34m)\u001b[0m\u001b[0;34m\u001b[0m\u001b[0;34m\u001b[0m\u001b[0m\n\u001b[0m\u001b[1;32m     38\u001b[0m     \u001b[0mtransformed\u001b[0m \u001b[0;34m=\u001b[0m \u001b[0mtrain_transform\u001b[0m\u001b[0;34m(\u001b[0m\u001b[0mimage\u001b[0m\u001b[0;34m)\u001b[0m\u001b[0;34m\u001b[0m\u001b[0;34m\u001b[0m\u001b[0m\n\u001b[1;32m     39\u001b[0m     \u001b[0mnumpy_image\u001b[0m \u001b[0;34m=\u001b[0m \u001b[0mnp\u001b[0m\u001b[0;34m.\u001b[0m\u001b[0marray\u001b[0m\u001b[0;34m(\u001b[0m\u001b[0mtransformed\u001b[0m\u001b[0;34m)\u001b[0m\u001b[0;34m\u001b[0m\u001b[0;34m\u001b[0m\u001b[0m\n",
            "\u001b[0;32m/usr/local/lib/python3.10/dist-packages/PIL/Image.py\u001b[0m in \u001b[0;36mopen\u001b[0;34m(fp, mode, formats)\u001b[0m\n\u001b[1;32m   3234\u001b[0m         \u001b[0mexclusive_fp\u001b[0m \u001b[0;34m=\u001b[0m \u001b[0;32mTrue\u001b[0m\u001b[0;34m\u001b[0m\u001b[0;34m\u001b[0m\u001b[0m\n\u001b[1;32m   3235\u001b[0m \u001b[0;34m\u001b[0m\u001b[0m\n\u001b[0;32m-> 3236\u001b[0;31m     \u001b[0mprefix\u001b[0m \u001b[0;34m=\u001b[0m \u001b[0mfp\u001b[0m\u001b[0;34m.\u001b[0m\u001b[0mread\u001b[0m\u001b[0;34m(\u001b[0m\u001b[0;36m16\u001b[0m\u001b[0;34m)\u001b[0m\u001b[0;34m\u001b[0m\u001b[0;34m\u001b[0m\u001b[0m\n\u001b[0m\u001b[1;32m   3237\u001b[0m \u001b[0;34m\u001b[0m\u001b[0m\n\u001b[1;32m   3238\u001b[0m     \u001b[0mpreinit\u001b[0m\u001b[0;34m(\u001b[0m\u001b[0;34m)\u001b[0m\u001b[0;34m\u001b[0m\u001b[0;34m\u001b[0m\u001b[0m\n",
            "\u001b[0;31mKeyboardInterrupt\u001b[0m: "
          ]
        }
      ],
      "source": [
        "path = 'drive/MyDrive/dataset/'\n",
        "train_dir = os.path.join(path, 'train')\n",
        "test_dir = os.path.join(path, 'test')\n",
        "\n",
        "# Define transforms for training and testing datasets separately\n",
        "train_transform = transforms.Compose([\n",
        "    transforms.Resize((IMAGE_SIZE, IMAGE_SIZE)),\n",
        "    #transforms.RandomHorizontalFlip(),\n",
        "    # transforms.RandomRotation(degrees=(-2, 2)),\n",
        "    # transforms.RandomAffine(degrees=0, translate=(0.2, 0.2)),\n",
        "])\n",
        "\n",
        "\n",
        "test_transform = transforms.Compose([\n",
        "    transforms.Resize((IMAGE_SIZE, IMAGE_SIZE)),\n",
        "    #transforms.ToTensor()\n",
        "])\n",
        "\n",
        "\n",
        "\n",
        "images = []\n",
        "for root, _, files in os.walk(train_dir):\n",
        "    for file in files:\n",
        "        if file.endswith(\".jpg\") or file.endswith(\".png\"):\n",
        "            images.append(os.path.join(root, file))\n",
        "images = random.sample(images,7000)\n",
        "\n",
        "class_to_index = {}\n",
        "classes = os.listdir(train_dir)\n",
        "for i, class_name in enumerate(classes):\n",
        "    class_to_index[class_name] = i\n",
        "\n",
        "\n",
        "train_images = []\n",
        "train_labels = []\n",
        "for i in range(4000):\n",
        "    image = Image.open(images[i]).convert('RGB')\n",
        "    transformed = train_transform(image)\n",
        "    numpy_image = np.array(transformed)\n",
        "    drug = images[i].split(\"/\")[4]\n",
        "    cls = class_to_index[drug]\n",
        "    train_labels.append(cls)\n",
        "    train_images.append(numpy_image)\n",
        "\n",
        "    if i % 500 == 0:\n",
        "        print(i)\n"
      ]
    },
    {
      "cell_type": "code",
      "execution_count": null,
      "id": "a78e5b86",
      "metadata": {
        "id": "a78e5b86"
      },
      "outputs": [],
      "source": [
        "X = torch.tensor(train_images).to(device)"
      ]
    },
    {
      "cell_type": "code",
      "execution_count": null,
      "id": "a4dc29a4",
      "metadata": {
        "id": "a4dc29a4"
      },
      "outputs": [],
      "source": [
        "Y = torch.LongTensor(train_labels).to(device)"
      ]
    },
    {
      "cell_type": "code",
      "execution_count": null,
      "id": "6af07a0b",
      "metadata": {
        "id": "6af07a0b"
      },
      "outputs": [],
      "source": [
        "Y.shape"
      ]
    },
    {
      "cell_type": "markdown",
      "source": [
        "# Plotting some training examples"
      ],
      "metadata": {
        "id": "eqzYiTkCijni"
      },
      "id": "eqzYiTkCijni"
    },
    {
      "cell_type": "code",
      "source": [
        "plt.imshow(X[4].cpu())\n",
        "plt.title('EXAMPLE 1')\n",
        "plt.show()\n",
        "plt.imshow(X[600].cpu())\n",
        "plt.title('EXAMPLE 2')"
      ],
      "metadata": {
        "id": "owyQzxUWid-E"
      },
      "id": "owyQzxUWid-E",
      "execution_count": null,
      "outputs": []
    },
    {
      "cell_type": "code",
      "execution_count": 127,
      "id": "6e9160cd",
      "metadata": {
        "id": "6e9160cd"
      },
      "outputs": [],
      "source": [
        "train_dataset = torch.utils.data.TensorDataset(X,Y)\n",
        "train_loader = DataLoader(train_dataset, batch_size=BATCH_SIZE, shuffle=True)"
      ]
    },
    {
      "cell_type": "markdown",
      "source": [
        "# Training"
      ],
      "metadata": {
        "id": "OmxnJYhgVn3g"
      },
      "id": "OmxnJYhgVn3g"
    },
    {
      "cell_type": "code",
      "execution_count": 128,
      "id": "2f1968bb",
      "metadata": {
        "id": "2f1968bb"
      },
      "outputs": [],
      "source": [
        "# Define Multilayer Perceptron (MLP)\n",
        "class MLP(nn.Module):\n",
        "    def __init__(self, input_dim, hidden_units, output_dim, dropout_rate=0.5):\n",
        "        super(MLP, self).__init__()\n",
        "        self.fc_layers = nn.ModuleList()\n",
        "        self.dropout = nn.Dropout(dropout_rate)\n",
        "\n",
        "        for units in hidden_units:\n",
        "            self.fc_layers.append(nn.Linear(input_dim, units))\n",
        "            input_dim = units\n",
        "        self.output_layer = nn.Linear(hidden_units[-1], output_dim)\n",
        "\n",
        "    def forward(self, x):\n",
        "        for layer in self.fc_layers:\n",
        "            x = F.gelu(layer(x))\n",
        "            x = self.dropout(x)\n",
        "        x = self.output_layer(x)\n",
        "        return x\n",
        "\n",
        "# Patch Creation Layer\n",
        "class Patches(nn.Module):\n",
        "    def __init__(self, patch_size):\n",
        "        super().__init__()\n",
        "        self.patch_size = patch_size\n",
        "\n",
        "\n",
        "    def forward(self, images):\n",
        "        batch_size, width, height, channels = images.shape\n",
        "        images = images.permute(0, 3, 1, 2)  # Change data shape to [batch, channels, height, width]\n",
        "\n",
        "        # Use unfold to extract patches\n",
        "        patches = images.unfold(2, self.patch_size, self.patch_size).unfold(3, self.patch_size, self.patch_size)\n",
        "        #print(patches.shape)  # Shape will be [batch, channels, 12, 12, 6, 6]\n",
        "\n",
        "        # Reshape to flatten the patches\n",
        "        patches = patches.contiguous().view(batch_size, channels, -1, self.patch_size*self.patch_size)\n",
        "        patches = patches.permute(0, 2, 1, 3)  # Reordering to [batch, num_patches, channels, patch_size*patch_size]\n",
        "        patches = patches.reshape(batch_size, -1, self.patch_size*self.patch_size*channels)\n",
        "        return patches\n",
        "\n",
        "# Patch Encoding Layer\n",
        "class PatchEncoder(nn.Module):\n",
        "    def __init__(self, num_patches, projection_dim):\n",
        "        super().__init__()\n",
        "        self.projection = nn.Linear(108,projection_dim)\n",
        "        self.position_embedding = nn.Parameter(torch.randn(1, num_patches, projection_dim))\n",
        "\n",
        "    def forward(self, patch):\n",
        "        encoded = self.projection(patch) + self.position_embedding\n",
        "        return encoded\n",
        "\n",
        "# Multi-Head Self-Attention with Learnable Scaling\n",
        "class MultiHeadAttentionLSA(nn.Module):\n",
        "    def __init__(self, embed_dim, num_heads, dropout=0.1):\n",
        "        super().__init__()\n",
        "        self.embed_dim = embed_dim\n",
        "        self.num_heads = num_heads\n",
        "        self.head_dim = embed_dim // num_heads\n",
        "\n",
        "        self.scale = math.sqrt(self.head_dim)\n",
        "\n",
        "        self.query = nn.Linear(embed_dim, embed_dim)\n",
        "        self.key = nn.Linear(embed_dim, embed_dim)\n",
        "        self.value = nn.Linear(embed_dim, embed_dim)\n",
        "\n",
        "        self.dropout = nn.Dropout(dropout)\n",
        "\n",
        "    def forward(self, query, key, value, mask=None):\n",
        "        batch_size = query.shape[0]\n",
        "\n",
        "        Q = self.query(query).view(batch_size, -1, self.num_heads, self.head_dim).permute(0, 2, 1, 3)\n",
        "        K = self.key(key).view(batch_size, -1, self.num_heads, self.head_dim).permute(0, 2, 1, 3)\n",
        "        V = self.value(value).view(batch_size, -1, self.num_heads, self.head_dim).permute(0, 2, 1, 3)\n",
        "\n",
        "        energy = torch.matmul(Q, K.permute(0, 1, 3, 2)) / self.scale\n",
        "\n",
        "        if mask is not None:\n",
        "            energy = energy.masked_fill(mask == 0, float('-inf'))\n",
        "\n",
        "        attention = torch.softmax(energy, dim=-1)\n",
        "        attention = self.dropout(attention)\n",
        "\n",
        "        x = torch.matmul(attention, V)\n",
        "\n",
        "        x = x.permute(0, 2, 1, 3).contiguous().view(batch_size, -1, self.embed_dim)\n",
        "\n",
        "        return x\n",
        "\n",
        "# Vision Transformer Model\n",
        "class VisionTransformer(nn.Module):\n",
        "    def __init__(self):\n",
        "        super().__init__()\n",
        "        #self.data_augmentation = train_transform\n",
        "        self.patches = Patches(PATCH_SIZE)\n",
        "        self.encoder = PatchEncoder(NUM_PATCHES, PROJECTION_DIM)\n",
        "        self.transformers = nn.ModuleList([\n",
        "            nn.TransformerEncoderLayer(d_model=PROJECTION_DIM, nhead=NUM_HEADS)\n",
        "            for _ in range(TRANSFORMER_LAYERS)\n",
        "        ])\n",
        "        self.layer_norm = nn.LayerNorm(PROJECTION_DIM)\n",
        "        self.mlp_head = MLP(PROJECTION_DIM * NUM_PATCHES, MLP_HEAD_UNITS, NUM_CLASSES)\n",
        "        self.softmax = torch.nn.Softmax(dim=1)\n",
        "\n",
        "    def forward(self, x):\n",
        "        #x = self.data_augmentation(x)\n",
        "        patches = self.patches(x)\n",
        "        encoded_patches = self.encoder(patches)\n",
        "\n",
        "        for transformer in self.transformers:\n",
        "            encoded_patches = transformer(encoded_patches)\n",
        "\n",
        "        representation = self.layer_norm(encoded_patches)\n",
        "        representation = representation.flatten(1)\n",
        "        logits = self.mlp_head(representation)\n",
        "        pred = self.softmax(logits)\n",
        "        return pred\n",
        "\n",
        "\n",
        "\n",
        "\n",
        "\n",
        "\n",
        "\n",
        "\n"
      ]
    },
    {
      "cell_type": "code",
      "source": [
        "from torchmetrics import Accuracy,F1Score,Precision,Recall"
      ],
      "metadata": {
        "id": "CjU5ptk7fyW8"
      },
      "id": "CjU5ptk7fyW8",
      "execution_count": 129,
      "outputs": []
    },
    {
      "cell_type": "code",
      "source": [
        "# Initialize metrics\n",
        "accuracy = Accuracy(num_classes=NUM_CLASSES,task='multiclass').to(device)\n",
        "precision = Precision(num_classes=NUM_CLASSES,task='multiclass').to(device)\n",
        "recall = Recall(num_classes=NUM_CLASSES,task='multiclass').to(device)\n",
        "f1_score = F1Score(num_classes=NUM_CLASSES,task='multiclass').to(device)\n",
        "\n",
        "def calculate_metrics(preds, labels, accuracy, precision, recall, f1_score):\n",
        "    # Compute metrics\n",
        "    acc = accuracy(preds, labels)\n",
        "    prec = precision(preds, labels)\n",
        "    rec = recall(preds, labels)\n",
        "    f1 = f1_score(preds, labels)\n",
        "\n",
        "    # Reset metrics after computation to prepare for next batch\n",
        "    accuracy.reset()\n",
        "    precision.reset()\n",
        "    recall.reset()\n",
        "    f1_score.reset()\n",
        "\n",
        "    # Collect results\n",
        "    results = {\n",
        "        'accuracy': acc.item(),\n",
        "        'precision': prec.item(),\n",
        "        'recall': rec.item(),\n",
        "        'f1_score': f1.item()\n",
        "    }\n",
        "\n",
        "    return results\n",
        "\n",
        "\n"
      ],
      "metadata": {
        "id": "1hFfWLnOW6sO"
      },
      "id": "1hFfWLnOW6sO",
      "execution_count": 130,
      "outputs": []
    },
    {
      "cell_type": "code",
      "source": [],
      "metadata": {
        "id": "POVQ7EixHO9k"
      },
      "id": "POVQ7EixHO9k",
      "execution_count": null,
      "outputs": []
    },
    {
      "cell_type": "code",
      "source": [
        "model = VisionTransformer().to(device)\n",
        "criterion = nn.CrossEntropyLoss()\n",
        "optimizer = optim.Adam(model.parameters(), lr=LEARNING_RATE)"
      ],
      "metadata": {
        "id": "V3pH4mkvWEid"
      },
      "id": "V3pH4mkvWEid",
      "execution_count": 163,
      "outputs": []
    },
    {
      "cell_type": "code",
      "source": [
        "# Training loop\n",
        "losses = []\n",
        "accuracies = []\n",
        "metrics = {}\n",
        "for epoch in range(EPOCHS):\n",
        "    model.train()\n",
        "    running_loss = 0.0\n",
        "    for i,(images_, label) in enumerate(train_loader):\n",
        "        images_ = images_.float()\n",
        "        optimizer.zero_grad()\n",
        "        outputs = model(images_)\n",
        "        loss = criterion(outputs, label)\n",
        "        loss.backward()\n",
        "        optimizer.step()\n",
        "        running_loss += loss.item()\n",
        "        results = calculate_metrics(outputs.argmax(axis=1), label, accuracy, precision, recall, f1_score)\n",
        "\n",
        "        losses.append(loss.item())\n",
        "        accuracies.append(results['accuracy'])\n",
        "        if (i+1) % 125 == 0:\n",
        "            metrics = results\n",
        "            print(f'Epoch [{epoch+1}/{EPOCHS}], Step [{i+1}/{len(train_loader)}], Loss: {running_loss/100:.4f}')\n",
        "            print(metrics)\n",
        "            running_loss = 0.0\n",
        ""
      ],
      "metadata": {
        "colab": {
          "base_uri": "https://localhost:8080/"
        },
        "id": "Mpcui5koV_BT",
        "outputId": "fb0e346a-86bd-4c0c-b8b8-6402f2c824a9"
      },
      "id": "Mpcui5koV_BT",
      "execution_count": 164,
      "outputs": [
        {
          "output_type": "stream",
          "name": "stdout",
          "text": [
            "Epoch [1/100], Step [125/125], Loss: 2.8082\n",
            "{'accuracy': 0.21875, 'precision': 0.21875, 'recall': 0.21875, 'f1_score': 0.21875}\n",
            "Epoch [2/100], Step [125/125], Loss: 2.7974\n",
            "{'accuracy': 0.09375, 'precision': 0.09375, 'recall': 0.09375, 'f1_score': 0.09375}\n",
            "Epoch [3/100], Step [125/125], Loss: 2.8003\n",
            "{'accuracy': 0.15625, 'precision': 0.15625, 'recall': 0.15625, 'f1_score': 0.15625}\n",
            "Epoch [4/100], Step [125/125], Loss: 2.7961\n",
            "{'accuracy': 0.15625, 'precision': 0.15625, 'recall': 0.15625, 'f1_score': 0.15625}\n",
            "Epoch [5/100], Step [125/125], Loss: 2.7948\n",
            "{'accuracy': 0.21875, 'precision': 0.21875, 'recall': 0.21875, 'f1_score': 0.21875}\n",
            "Epoch [6/100], Step [125/125], Loss: 2.7892\n",
            "{'accuracy': 0.0625, 'precision': 0.0625, 'recall': 0.0625, 'f1_score': 0.0625}\n",
            "Epoch [7/100], Step [125/125], Loss: 2.7892\n",
            "{'accuracy': 0.21875, 'precision': 0.21875, 'recall': 0.21875, 'f1_score': 0.21875}\n",
            "Epoch [8/100], Step [125/125], Loss: 2.7869\n",
            "{'accuracy': 0.25, 'precision': 0.25, 'recall': 0.25, 'f1_score': 0.25}\n",
            "Epoch [9/100], Step [125/125], Loss: 2.7795\n",
            "{'accuracy': 0.21875, 'precision': 0.21875, 'recall': 0.21875, 'f1_score': 0.21875}\n",
            "Epoch [10/100], Step [125/125], Loss: 2.7702\n",
            "{'accuracy': 0.3125, 'precision': 0.3125, 'recall': 0.3125, 'f1_score': 0.3125}\n",
            "Epoch [11/100], Step [125/125], Loss: 2.7618\n",
            "{'accuracy': 0.21875, 'precision': 0.21875, 'recall': 0.21875, 'f1_score': 0.21875}\n",
            "Epoch [12/100], Step [125/125], Loss: 2.7508\n",
            "{'accuracy': 0.375, 'precision': 0.375, 'recall': 0.375, 'f1_score': 0.375}\n",
            "Epoch [13/100], Step [125/125], Loss: 2.7456\n",
            "{'accuracy': 0.34375, 'precision': 0.34375, 'recall': 0.34375, 'f1_score': 0.34375}\n",
            "Epoch [14/100], Step [125/125], Loss: 2.7335\n",
            "{'accuracy': 0.25, 'precision': 0.25, 'recall': 0.25, 'f1_score': 0.25}\n",
            "Epoch [15/100], Step [125/125], Loss: 2.7258\n",
            "{'accuracy': 0.40625, 'precision': 0.40625, 'recall': 0.40625, 'f1_score': 0.40625}\n",
            "Epoch [16/100], Step [125/125], Loss: 2.7232\n",
            "{'accuracy': 0.40625, 'precision': 0.40625, 'recall': 0.40625, 'f1_score': 0.40625}\n",
            "Epoch [17/100], Step [125/125], Loss: 2.7159\n",
            "{'accuracy': 0.46875, 'precision': 0.46875, 'recall': 0.46875, 'f1_score': 0.46875}\n",
            "Epoch [18/100], Step [125/125], Loss: 2.7103\n",
            "{'accuracy': 0.21875, 'precision': 0.21875, 'recall': 0.21875, 'f1_score': 0.21875}\n",
            "Epoch [19/100], Step [125/125], Loss: 2.7059\n",
            "{'accuracy': 0.21875, 'precision': 0.21875, 'recall': 0.21875, 'f1_score': 0.21875}\n",
            "Epoch [20/100], Step [125/125], Loss: 2.7003\n",
            "{'accuracy': 0.375, 'precision': 0.375, 'recall': 0.375, 'f1_score': 0.375}\n",
            "Epoch [21/100], Step [125/125], Loss: 2.6997\n",
            "{'accuracy': 0.375, 'precision': 0.375, 'recall': 0.375, 'f1_score': 0.375}\n",
            "Epoch [22/100], Step [125/125], Loss: 2.6852\n",
            "{'accuracy': 0.46875, 'precision': 0.46875, 'recall': 0.46875, 'f1_score': 0.46875}\n",
            "Epoch [23/100], Step [125/125], Loss: 2.6844\n",
            "{'accuracy': 0.34375, 'precision': 0.34375, 'recall': 0.34375, 'f1_score': 0.34375}\n",
            "Epoch [24/100], Step [125/125], Loss: 2.6760\n",
            "{'accuracy': 0.125, 'precision': 0.125, 'recall': 0.125, 'f1_score': 0.125}\n",
            "Epoch [25/100], Step [125/125], Loss: 2.6745\n",
            "{'accuracy': 0.09375, 'precision': 0.09375, 'recall': 0.09375, 'f1_score': 0.09375}\n",
            "Epoch [26/100], Step [125/125], Loss: 2.6587\n",
            "{'accuracy': 0.15625, 'precision': 0.15625, 'recall': 0.15625, 'f1_score': 0.15625}\n",
            "Epoch [27/100], Step [125/125], Loss: 2.6474\n",
            "{'accuracy': 0.375, 'precision': 0.375, 'recall': 0.375, 'f1_score': 0.375}\n",
            "Epoch [28/100], Step [125/125], Loss: 2.6363\n",
            "{'accuracy': 0.21875, 'precision': 0.21875, 'recall': 0.21875, 'f1_score': 0.21875}\n",
            "Epoch [29/100], Step [125/125], Loss: 2.6230\n",
            "{'accuracy': 0.5, 'precision': 0.5, 'recall': 0.5, 'f1_score': 0.5}\n",
            "Epoch [30/100], Step [125/125], Loss: 2.6072\n",
            "{'accuracy': 0.34375, 'precision': 0.34375, 'recall': 0.34375, 'f1_score': 0.34375}\n",
            "Epoch [31/100], Step [125/125], Loss: 2.5930\n",
            "{'accuracy': 0.34375, 'precision': 0.34375, 'recall': 0.34375, 'f1_score': 0.34375}\n",
            "Epoch [32/100], Step [125/125], Loss: 2.5774\n",
            "{'accuracy': 0.40625, 'precision': 0.40625, 'recall': 0.40625, 'f1_score': 0.40625}\n",
            "Epoch [33/100], Step [125/125], Loss: 2.5683\n",
            "{'accuracy': 0.46875, 'precision': 0.46875, 'recall': 0.46875, 'f1_score': 0.46875}\n",
            "Epoch [34/100], Step [125/125], Loss: 2.5599\n",
            "{'accuracy': 0.46875, 'precision': 0.46875, 'recall': 0.46875, 'f1_score': 0.46875}\n",
            "Epoch [35/100], Step [125/125], Loss: 2.5485\n",
            "{'accuracy': 0.34375, 'precision': 0.34375, 'recall': 0.34375, 'f1_score': 0.34375}\n",
            "Epoch [36/100], Step [125/125], Loss: 2.5346\n",
            "{'accuracy': 0.5, 'precision': 0.5, 'recall': 0.5, 'f1_score': 0.5}\n",
            "Epoch [37/100], Step [125/125], Loss: 2.5288\n",
            "{'accuracy': 0.375, 'precision': 0.375, 'recall': 0.375, 'f1_score': 0.375}\n",
            "Epoch [38/100], Step [125/125], Loss: 2.5226\n",
            "{'accuracy': 0.59375, 'precision': 0.59375, 'recall': 0.59375, 'f1_score': 0.59375}\n",
            "Epoch [39/100], Step [125/125], Loss: 2.5108\n",
            "{'accuracy': 0.40625, 'precision': 0.40625, 'recall': 0.40625, 'f1_score': 0.40625}\n",
            "Epoch [40/100], Step [125/125], Loss: 2.5052\n",
            "{'accuracy': 0.53125, 'precision': 0.53125, 'recall': 0.53125, 'f1_score': 0.53125}\n",
            "Epoch [41/100], Step [125/125], Loss: 2.5027\n",
            "{'accuracy': 0.5625, 'precision': 0.5625, 'recall': 0.5625, 'f1_score': 0.5625}\n",
            "Epoch [42/100], Step [125/125], Loss: 2.4912\n",
            "{'accuracy': 0.4375, 'precision': 0.4375, 'recall': 0.4375, 'f1_score': 0.4375}\n",
            "Epoch [43/100], Step [125/125], Loss: 2.4832\n",
            "{'accuracy': 0.46875, 'precision': 0.46875, 'recall': 0.46875, 'f1_score': 0.46875}\n",
            "Epoch [44/100], Step [125/125], Loss: 2.4745\n",
            "{'accuracy': 0.65625, 'precision': 0.65625, 'recall': 0.65625, 'f1_score': 0.65625}\n",
            "Epoch [45/100], Step [125/125], Loss: 2.4750\n",
            "{'accuracy': 0.46875, 'precision': 0.46875, 'recall': 0.46875, 'f1_score': 0.46875}\n",
            "Epoch [46/100], Step [125/125], Loss: 2.4668\n",
            "{'accuracy': 0.53125, 'precision': 0.53125, 'recall': 0.53125, 'f1_score': 0.53125}\n",
            "Epoch [47/100], Step [125/125], Loss: 2.4588\n",
            "{'accuracy': 0.53125, 'precision': 0.53125, 'recall': 0.53125, 'f1_score': 0.53125}\n",
            "Epoch [48/100], Step [125/125], Loss: 2.4525\n",
            "{'accuracy': 0.46875, 'precision': 0.46875, 'recall': 0.46875, 'f1_score': 0.46875}\n",
            "Epoch [49/100], Step [125/125], Loss: 2.4552\n",
            "{'accuracy': 0.5, 'precision': 0.5, 'recall': 0.5, 'f1_score': 0.5}\n",
            "Epoch [50/100], Step [125/125], Loss: 2.4414\n",
            "{'accuracy': 0.46875, 'precision': 0.46875, 'recall': 0.46875, 'f1_score': 0.46875}\n",
            "Epoch [51/100], Step [125/125], Loss: 2.4369\n",
            "{'accuracy': 0.5625, 'precision': 0.5625, 'recall': 0.5625, 'f1_score': 0.5625}\n",
            "Epoch [52/100], Step [125/125], Loss: 2.4329\n",
            "{'accuracy': 0.4375, 'precision': 0.4375, 'recall': 0.4375, 'f1_score': 0.4375}\n",
            "Epoch [53/100], Step [125/125], Loss: 2.4312\n",
            "{'accuracy': 0.46875, 'precision': 0.46875, 'recall': 0.46875, 'f1_score': 0.46875}\n",
            "Epoch [54/100], Step [125/125], Loss: 2.4178\n",
            "{'accuracy': 0.625, 'precision': 0.625, 'recall': 0.625, 'f1_score': 0.625}\n",
            "Epoch [55/100], Step [125/125], Loss: 2.4165\n",
            "{'accuracy': 0.4375, 'precision': 0.4375, 'recall': 0.4375, 'f1_score': 0.4375}\n",
            "Epoch [56/100], Step [125/125], Loss: 2.4126\n",
            "{'accuracy': 0.625, 'precision': 0.625, 'recall': 0.625, 'f1_score': 0.625}\n",
            "Epoch [57/100], Step [125/125], Loss: 2.4051\n",
            "{'accuracy': 0.5625, 'precision': 0.5625, 'recall': 0.5625, 'f1_score': 0.5625}\n",
            "Epoch [58/100], Step [125/125], Loss: 2.4024\n",
            "{'accuracy': 0.5, 'precision': 0.5, 'recall': 0.5, 'f1_score': 0.5}\n",
            "Epoch [59/100], Step [125/125], Loss: 2.3996\n",
            "{'accuracy': 0.6875, 'precision': 0.6875, 'recall': 0.6875, 'f1_score': 0.6875}\n",
            "Epoch [60/100], Step [125/125], Loss: 2.3847\n",
            "{'accuracy': 0.59375, 'precision': 0.59375, 'recall': 0.59375, 'f1_score': 0.59375}\n",
            "Epoch [61/100], Step [125/125], Loss: 2.3837\n",
            "{'accuracy': 0.5, 'precision': 0.5, 'recall': 0.5, 'f1_score': 0.5}\n",
            "Epoch [62/100], Step [125/125], Loss: 2.3790\n",
            "{'accuracy': 0.53125, 'precision': 0.53125, 'recall': 0.53125, 'f1_score': 0.53125}\n",
            "Epoch [63/100], Step [125/125], Loss: 2.3693\n",
            "{'accuracy': 0.59375, 'precision': 0.59375, 'recall': 0.59375, 'f1_score': 0.59375}\n",
            "Epoch [64/100], Step [125/125], Loss: 2.3634\n",
            "{'accuracy': 0.625, 'precision': 0.625, 'recall': 0.625, 'f1_score': 0.625}\n",
            "Epoch [65/100], Step [125/125], Loss: 2.3578\n",
            "{'accuracy': 0.5625, 'precision': 0.5625, 'recall': 0.5625, 'f1_score': 0.5625}\n",
            "Epoch [66/100], Step [125/125], Loss: 2.3495\n",
            "{'accuracy': 0.5625, 'precision': 0.5625, 'recall': 0.5625, 'f1_score': 0.5625}\n",
            "Epoch [67/100], Step [125/125], Loss: 2.3570\n",
            "{'accuracy': 0.46875, 'precision': 0.46875, 'recall': 0.46875, 'f1_score': 0.46875}\n",
            "Epoch [68/100], Step [125/125], Loss: 2.3451\n",
            "{'accuracy': 0.5625, 'precision': 0.5625, 'recall': 0.5625, 'f1_score': 0.5625}\n",
            "Epoch [69/100], Step [125/125], Loss: 2.3368\n",
            "{'accuracy': 0.625, 'precision': 0.625, 'recall': 0.625, 'f1_score': 0.625}\n",
            "Epoch [70/100], Step [125/125], Loss: 2.3400\n",
            "{'accuracy': 0.53125, 'precision': 0.53125, 'recall': 0.53125, 'f1_score': 0.53125}\n",
            "Epoch [71/100], Step [125/125], Loss: 2.3285\n",
            "{'accuracy': 0.53125, 'precision': 0.53125, 'recall': 0.53125, 'f1_score': 0.53125}\n",
            "Epoch [72/100], Step [125/125], Loss: 2.3327\n",
            "{'accuracy': 0.5, 'precision': 0.5, 'recall': 0.5, 'f1_score': 0.5}\n",
            "Epoch [73/100], Step [125/125], Loss: 2.3188\n",
            "{'accuracy': 0.6875, 'precision': 0.6875, 'recall': 0.6875, 'f1_score': 0.6875}\n",
            "Epoch [74/100], Step [125/125], Loss: 2.3135\n",
            "{'accuracy': 0.65625, 'precision': 0.65625, 'recall': 0.65625, 'f1_score': 0.65625}\n",
            "Epoch [75/100], Step [125/125], Loss: 2.3115\n",
            "{'accuracy': 0.5625, 'precision': 0.5625, 'recall': 0.5625, 'f1_score': 0.5625}\n",
            "Epoch [76/100], Step [125/125], Loss: 2.3060\n",
            "{'accuracy': 0.40625, 'precision': 0.40625, 'recall': 0.40625, 'f1_score': 0.40625}\n",
            "Epoch [77/100], Step [125/125], Loss: 2.3008\n",
            "{'accuracy': 0.75, 'precision': 0.75, 'recall': 0.75, 'f1_score': 0.75}\n",
            "Epoch [78/100], Step [125/125], Loss: 2.2973\n",
            "{'accuracy': 0.65625, 'precision': 0.65625, 'recall': 0.65625, 'f1_score': 0.65625}\n",
            "Epoch [79/100], Step [125/125], Loss: 2.2931\n",
            "{'accuracy': 0.625, 'precision': 0.625, 'recall': 0.625, 'f1_score': 0.625}\n",
            "Epoch [80/100], Step [125/125], Loss: 2.2816\n",
            "{'accuracy': 0.71875, 'precision': 0.71875, 'recall': 0.71875, 'f1_score': 0.71875}\n",
            "Epoch [81/100], Step [125/125], Loss: 2.2794\n",
            "{'accuracy': 0.75, 'precision': 0.75, 'recall': 0.75, 'f1_score': 0.75}\n",
            "Epoch [82/100], Step [125/125], Loss: 2.2739\n",
            "{'accuracy': 0.71875, 'precision': 0.71875, 'recall': 0.71875, 'f1_score': 0.71875}\n",
            "Epoch [83/100], Step [125/125], Loss: 2.2734\n",
            "{'accuracy': 0.65625, 'precision': 0.65625, 'recall': 0.65625, 'f1_score': 0.65625}\n",
            "Epoch [84/100], Step [125/125], Loss: 2.2694\n",
            "{'accuracy': 0.71875, 'precision': 0.71875, 'recall': 0.71875, 'f1_score': 0.71875}\n",
            "Epoch [85/100], Step [125/125], Loss: 2.2664\n",
            "{'accuracy': 0.53125, 'precision': 0.53125, 'recall': 0.53125, 'f1_score': 0.53125}\n",
            "Epoch [86/100], Step [125/125], Loss: 2.2602\n",
            "{'accuracy': 0.8125, 'precision': 0.8125, 'recall': 0.8125, 'f1_score': 0.8125}\n",
            "Epoch [87/100], Step [125/125], Loss: 2.2502\n",
            "{'accuracy': 0.71875, 'precision': 0.71875, 'recall': 0.71875, 'f1_score': 0.71875}\n",
            "Epoch [88/100], Step [125/125], Loss: 2.2544\n",
            "{'accuracy': 0.75, 'precision': 0.75, 'recall': 0.75, 'f1_score': 0.75}\n",
            "Epoch [89/100], Step [125/125], Loss: 2.2540\n",
            "{'accuracy': 0.8125, 'precision': 0.8125, 'recall': 0.8125, 'f1_score': 0.8125}\n",
            "Epoch [90/100], Step [125/125], Loss: 2.2494\n",
            "{'accuracy': 0.75, 'precision': 0.75, 'recall': 0.75, 'f1_score': 0.75}\n",
            "Epoch [91/100], Step [125/125], Loss: 2.2394\n",
            "{'accuracy': 0.65625, 'precision': 0.65625, 'recall': 0.65625, 'f1_score': 0.65625}\n",
            "Epoch [92/100], Step [125/125], Loss: 2.2398\n",
            "{'accuracy': 0.75, 'precision': 0.75, 'recall': 0.75, 'f1_score': 0.75}\n",
            "Epoch [93/100], Step [125/125], Loss: 2.2291\n",
            "{'accuracy': 0.71875, 'precision': 0.71875, 'recall': 0.71875, 'f1_score': 0.71875}\n",
            "Epoch [94/100], Step [125/125], Loss: 2.2310\n",
            "{'accuracy': 0.71875, 'precision': 0.71875, 'recall': 0.71875, 'f1_score': 0.71875}\n",
            "Epoch [95/100], Step [125/125], Loss: 2.2267\n",
            "{'accuracy': 0.75, 'precision': 0.75, 'recall': 0.75, 'f1_score': 0.75}\n",
            "Epoch [96/100], Step [125/125], Loss: 2.2312\n",
            "{'accuracy': 0.84375, 'precision': 0.84375, 'recall': 0.84375, 'f1_score': 0.84375}\n",
            "Epoch [97/100], Step [125/125], Loss: 2.2162\n",
            "{'accuracy': 0.625, 'precision': 0.625, 'recall': 0.625, 'f1_score': 0.625}\n",
            "Epoch [98/100], Step [125/125], Loss: 2.2148\n",
            "{'accuracy': 0.84375, 'precision': 0.84375, 'recall': 0.84375, 'f1_score': 0.84375}\n",
            "Epoch [99/100], Step [125/125], Loss: 2.2134\n",
            "{'accuracy': 0.65625, 'precision': 0.65625, 'recall': 0.65625, 'f1_score': 0.65625}\n",
            "Epoch [100/100], Step [125/125], Loss: 2.2056\n",
            "{'accuracy': 0.71875, 'precision': 0.71875, 'recall': 0.71875, 'f1_score': 0.71875}\n"
          ]
        }
      ]
    },
    {
      "cell_type": "markdown",
      "source": [
        "# Metrics Visualisation"
      ],
      "metadata": {
        "id": "UfFiV5y8ZhaO"
      },
      "id": "UfFiV5y8ZhaO"
    },
    {
      "cell_type": "code",
      "source": [
        "torch.bincount(Y)"
      ],
      "metadata": {
        "id": "pfRAv4IZBcNs",
        "outputId": "0bf78326-3e53-4bb7-8edf-33e4cbbced77",
        "colab": {
          "base_uri": "https://localhost:8080/"
        }
      },
      "id": "pfRAv4IZBcNs",
      "execution_count": 148,
      "outputs": [
        {
          "output_type": "execute_result",
          "data": {
            "text/plain": [
              "tensor([700, 700, 700, 700, 700, 500], device='cuda:0')"
            ]
          },
          "metadata": {},
          "execution_count": 148
        }
      ]
    },
    {
      "cell_type": "code",
      "source": [
        "plt.plot(losses)\n",
        "plt.title(\"Loss progression over 10 epochs\".upper())\n",
        "plt.xlabel('steps'.upper())\n",
        "plt.ylabel('loss'.upper())"
      ],
      "metadata": {
        "id": "7J86PIrkZgZR",
        "outputId": "fc850c27-94c6-4ceb-83f9-a4e5c5b18da8",
        "colab": {
          "base_uri": "https://localhost:8080/",
          "height": 490
        }
      },
      "id": "7J86PIrkZgZR",
      "execution_count": 166,
      "outputs": [
        {
          "output_type": "execute_result",
          "data": {
            "text/plain": [
              "Text(0, 0.5, 'LOSS')"
            ]
          },
          "metadata": {},
          "execution_count": 166
        },
        {
          "output_type": "display_data",
          "data": {
            "text/plain": [
              "<Figure size 640x480 with 1 Axes>"
            ],
            "image/png": "[encoded data removed]"
          },
          "metadata": {}
        }
      ]
    },
    {
      "cell_type": "code",
      "source": [
        "plt.plot(accuracies,'r')\n",
        "plt.title(\"Accuracy progression over 10 epochs\".upper())\n",
        "plt.xlabel('steps'.upper())\n",
        "plt.ylabel('accuracy'.upper())"
      ],
      "metadata": {
        "id": "tkT393XvZ3Du",
        "outputId": "7cd512c2-3a24-4045-b0e4-ba23e5c37017",
        "colab": {
          "base_uri": "https://localhost:8080/",
          "height": 490
        }
      },
      "id": "tkT393XvZ3Du",
      "execution_count": 167,
      "outputs": [
        {
          "output_type": "execute_result",
          "data": {
            "text/plain": [
              "Text(0, 0.5, 'ACCURACY')"
            ]
          },
          "metadata": {},
          "execution_count": 167
        },
        {
          "output_type": "display_data",
          "data": {
            "text/plain": [
              "<Figure size 640x480 with 1 Axes>"
            ],
            "image/png": "[encoded data removed]"
          },
          "metadata": {}
        }
      ]
    },
    {
      "cell_type": "markdown",
      "source": [
        "# TEST SET"
      ],
      "metadata": {
        "id": "ql-cvV8iaYJM"
      },
      "id": "ql-cvV8iaYJM"
    },
    {
      "cell_type": "code",
      "source": [
        "images = []\n",
        "for root, _, files in os.walk(train_dir):\n",
        "    for file in files:\n",
        "        if file.endswith(\".jpg\") or file.endswith(\".png\"):\n",
        "            images.append(os.path.join(root, file))"
      ],
      "metadata": {
        "id": "BEWKsaEYCUhg"
      },
      "id": "BEWKsaEYCUhg",
      "execution_count": 153,
      "outputs": []
    },
    {
      "cell_type": "code",
      "source": [
        "test_images = []\n",
        "test_labels = []\n",
        "for i in range(4000,7000):\n",
        "    image = Image.open(images[i]).convert('RGB')\n",
        "    transformed = test_transform(image)\n",
        "    numpy_image = np.array(transformed)\n",
        "    drug = images[i].split(\"/\")[4]\n",
        "    cls = class_to_index[drug]\n",
        "    test_labels.append(cls)\n",
        "    test_images.append(numpy_image)\n",
        "\n",
        "    if i % 500 == 0:\n",
        "        print(i)\n"
      ],
      "metadata": {
        "colab": {
          "base_uri": "https://localhost:8080/"
        },
        "id": "DkJOjwESs7s-",
        "outputId": "0489f05c-76bd-4650-cc39-979963dada8b"
      },
      "id": "DkJOjwESs7s-",
      "execution_count": 154,
      "outputs": [
        {
          "output_type": "stream",
          "name": "stdout",
          "text": [
            "4000\n",
            "4500\n",
            "5000\n",
            "5500\n",
            "6000\n",
            "6500\n"
          ]
        }
      ]
    },
    {
      "cell_type": "code",
      "source": [
        "Xt = torch.tensor(train_images).to(device)\n",
        "Yt = torch.LongTensor(train_labels).to(device)"
      ],
      "metadata": {
        "id": "vmcDSC7htkhF"
      },
      "id": "vmcDSC7htkhF",
      "execution_count": 155,
      "outputs": []
    },
    {
      "cell_type": "code",
      "source": [
        "test_dataset = torch.utils.data.TensorDataset(Xt,Yt)\n",
        "test_loader = DataLoader(test_dataset, batch_size=BATCH_SIZE, shuffle=True)"
      ],
      "metadata": {
        "id": "PiDQpv-gtaoL"
      },
      "id": "PiDQpv-gtaoL",
      "execution_count": 156,
      "outputs": []
    },
    {
      "cell_type": "code",
      "source": [
        "# Evaluation\n",
        "model.eval()\n",
        "all_labels = []\n",
        "all_preds = []\n",
        "with torch.no_grad():\n",
        "    for images, label in test_loader:\n",
        "        images = images.float()\n",
        "        outputs = model(images)\n",
        "        _, predicted = torch.max(outputs, 1)\n",
        "        all_labels.extend(label.cpu().numpy())\n",
        "        all_preds.extend(predicted.cpu().numpy())\n",
        "\n",
        "# Classification report and confusion matrix\n",
        "print(classification_report(all_labels, all_preds))\n",
        "cm = confusion_matrix(all_labels, all_preds)\n",
        "plt.figure(figsize=(10, 10))\n",
        "sns.heatmap(cm, annot=True, fmt='g', cmap='Blues')\n",
        "plt.xlabel('Predicted')\n",
        "plt.ylabel('True')\n",
        "plt.title('Confusion Matrix')\n",
        "plt.show()"
      ],
      "metadata": {
        "colab": {
          "base_uri": "https://localhost:8080/",
          "height": 1000
        },
        "id": "7M77U45etMMQ",
        "outputId": "eae04559-af7a-42f5-f59a-32b281fe7a59"
      },
      "id": "7M77U45etMMQ",
      "execution_count": 170,
      "outputs": [
        {
          "output_type": "stream",
          "name": "stderr",
          "text": [
            "/usr/local/lib/python3.10/dist-packages/sklearn/metrics/_classification.py:1344: UndefinedMetricWarning: Precision and F-score are ill-defined and being set to 0.0 in labels with no predicted samples. Use `zero_division` parameter to control this behavior.\n",
            "  _warn_prf(average, modifier, msg_start, len(result))\n",
            "/usr/local/lib/python3.10/dist-packages/sklearn/metrics/_classification.py:1344: UndefinedMetricWarning: Precision and F-score are ill-defined and being set to 0.0 in labels with no predicted samples. Use `zero_division` parameter to control this behavior.\n",
            "  _warn_prf(average, modifier, msg_start, len(result))\n",
            "/usr/local/lib/python3.10/dist-packages/sklearn/metrics/_classification.py:1344: UndefinedMetricWarning: Precision and F-score are ill-defined and being set to 0.0 in labels with no predicted samples. Use `zero_division` parameter to control this behavior.\n",
            "  _warn_prf(average, modifier, msg_start, len(result))\n"
          ]
        },
        {
          "output_type": "stream",
          "name": "stdout",
          "text": [
            "              precision    recall  f1-score   support\n",
            "\n",
            "           0       0.70      0.85      0.77       700\n",
            "           1       0.77      0.81      0.79       700\n",
            "           2       0.69      0.81      0.74       700\n",
            "           3       0.70      0.93      0.80       700\n",
            "           4       0.92      0.86      0.89       700\n",
            "           5       0.00      0.00      0.00       500\n",
            "\n",
            "    accuracy                           0.75      4000\n",
            "   macro avg       0.63      0.71      0.66      4000\n",
            "weighted avg       0.66      0.75      0.70      4000\n",
            "\n"
          ]
        },
        {
          "output_type": "display_data",
          "data": {
            "text/plain": [
              "<Figure size 1000x1000 with 2 Axes>"
            ],
            "image/png": "[encoded data removed]"
          },
          "metadata": {}
        }
      ]
    },
    {
      "cell_type": "code",
      "source": [
        "torch.save(model.state_dict(), 'drive/MyDrive/dataset/model_weights.pth')"
      ],
      "metadata": {
        "id": "O_Azj_EUFCho"
      },
      "id": "O_Azj_EUFCho",
      "execution_count": 169,
      "outputs": []
    }
  ],
  "metadata": {
    "kernelspec": {
      "display_name": "Python 3",
      "name": "python3"
    },
    "language_info": {
      "codemirror_mode": {
        "name": "ipython",
        "version": 3
      },
      "file_extension": ".py",
      "mimetype": "text/x-python",
      "name": "python",
      "nbconvert_exporter": "python",
      "pygments_lexer": "ipython3",
      "version": "3.10.13"
    },
    "colab": {
      "provenance": []
    }
  },
  "nbformat": 4,
  "nbformat_minor": 5
}